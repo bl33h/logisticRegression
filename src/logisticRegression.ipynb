{
 "cells": [
  {
   "cell_type": "markdown",
   "metadata": {},
   "source": [
    "# Regresión Logística\n",
    "- Ricardo Méndez 21289\n",
    "- Sara Echeverría 21371\n",
    "- Sebastián Juárez 21471\n",
    "- Repositorio de Github: https://github.com/bl33h/logisticRegression"
   ]
  },
  {
   "cell_type": "markdown",
   "metadata": {},
   "source": [
    "1. Cree una variable dicotómica por cada una de las categorías de la variable respuesta categórica que creó\n",
    "en hojas anteriores. Debería tener 3 variables dicotómicas (valores 0 y 1) una que diga si la vivienda es\n",
    "cara o no, media o no, económica o no.\n",
    "2. Use los mismos conjuntos de entrenamiento y prueba que utilizó en las hojas anteriores.\n",
    "3. Elabore un modelo de regresión logística para conocer si una vivienda es cara o no, utilizando el conjunto\n",
    "de entrenamiento y explique los resultados a los que llega. El experimento debe ser reproducible por lo\n",
    "que debe fijar que los conjuntos de entrenamiento y prueba sean los mismos siempre que se ejecute el\n",
    "código. Use validación cruzada.\n",
    "4. Analice el modelo. Determine si hay multicolinealidad en las variables, y cuáles son las que aportan al\n",
    "modelo, por su valor de significación. Haga un análisis de correlación de las variables del modelo y\n",
    "especifique si el modelo se adapta bien a los datos.\n",
    "5. Utilice el modelo con el conjunto de prueba y determine la eficiencia del algoritmo para clasificar.\n",
    "6. Explique si hay sobreajuste (overfitting) o no (recuerde usar para esto los errores del conjunto de prueba\n",
    "y de entrenamiento). Muestre las curvas de aprendizaje usando los errores de los conjuntos de\n",
    "entrenamiento y prueba."
   ]
  }
 ],
 "metadata": {
  "kernelspec": {
   "display_name": "myenv",
   "language": "python",
   "name": "myenv"
  },
  "language_info": {
   "name": "python",
   "version": "3.9.13"
  }
 },
 "nbformat": 4,
 "nbformat_minor": 2
}
